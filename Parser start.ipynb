{
 "cells": [
  {
   "cell_type": "code",
   "execution_count": null,
   "metadata": {
    "collapsed": true
   },
   "outputs": [],
   "source": [
    "import json\n",
    "use json.loads() to get the python dicts into json dicts.\n",
    "Use regular expressions?\n",
    "have to account for the delimiters at the beginning: skip first ocurrance of all but | ?\n",
    "\n",
    "parser:\n",
    "\n",
    "- read HL7 file\n",
    "- need to keep the position (original index + 1)\n",
    "- split on segment into strings\n",
    "- split on | into dict w/ key as seg_name + field_index+1\n",
    "- split on ^ into dict w/ key as seg_name + field_indext+1 + component_index+1\n",
    "- split on ~ into dict w/ key as seg_name + field_indext+1 + component_index+1 + subcomponent_index+1\n",
    "\n",
    "\n",
    "{File:\n",
    "    {seg_name:\n",
    "        {seg_nameIndex#: value,\n",
    "         seg_nameIndex#: \n",
    "            {component: value,\n",
    "             comonent: {\n",
    "                {subcomponent: value\n",
    "                }\n",
    "             }\n",
    "          seg_nameIndex#: value\n",
    "         }\n",
    "    }\n",
    "    {seg_name:\n",
    "        {seg_nameIndex#: value,\n",
    "         repeat as necessary,\n",
    "    }\n",
    "}\n",
    "\n",
    "{seg_name: {values, in, line}\n",
    "\n",
    "read it in using carriage return as the delimiter\n",
    "#gives you a list of lists\n"
   ]
  },
  {
   "cell_type": "code",
   "execution_count": 27,
   "metadata": {
    "collapsed": false
   },
   "outputs": [
    {
     "name": "stdout",
     "output_type": "stream",
     "text": [
      "{'MSH0': ['^~\\\\&', 'CERNER', '', 'PriorityHealth', '', '', '', 'ORU^R01', 'Q479004375T431430612', 'P', '2.3', '\\n']}\n",
      "{'PID1': ['', '', '001677980', '', 'SMITH^CURTIS', '', '19680219', 'M', '', '', '', '', '', '', '', '', '', '929645156318', '123456789', '\\n']}\n",
      "{'PD12': ['', '', '', '1234567890^LAST^FIRST^M^^^^^NPI', '\\n']}\n",
      "{'OBR3': ['1', '341856649^HNAM_ORDERID', '000002006326002362', '648088^Basic Metabolic Panel', '', '', '20061122151600', '', '', '', '', '', '', '', '', '1620^Hooker^Robert^L', '', '', '', '', '', '20061122154733', '', '', 'F', '', '', '', '', '', '', '', '', '', '', '20061122140000', '\\n']}\n",
      "{'OBX4': ['1', 'NM', 'GLU^Glucose Lvl', '59', 'mg/dL', '65-99^65^99', 'L', '', '', 'F', '', '', '20061122154733', '']}\n"
     ]
    }
   ],
   "source": [
    "#message = input(\"Enter the name of the file: \")\n",
    "with open('example1.hl7', 'r') as message:\n",
    "    for i,line in enumerate(message):\n",
    "        line = line.split('|', 1)\n",
    "        line = {line[0] + str(i): line[1]}\n",
    "        line = {key: list(map(str, value.split('|'))) for key, value in line.items()}\n",
    "        print(line)\n",
    "#         print(type(line))\n",
    "#     for field in line:\n",
    "#         field.split('^')\n",
    "#         field = dict(field[0],field[1:])\n",
    "#         for component in field:\n",
    "#             component.split('~')\n",
    "#             component = dict(component[0],component[1:])\n",
    "# print(message)"
   ]
  },
  {
   "cell_type": "code",
   "execution_count": null,
   "metadata": {
    "collapsed": true
   },
   "outputs": [],
   "source": []
  },
  {
   "cell_type": "code",
   "execution_count": null,
   "metadata": {
    "collapsed": true
   },
   "outputs": [],
   "source": []
  }
 ],
 "metadata": {
  "kernelspec": {
   "display_name": "Python 3",
   "language": "python",
   "name": "python3"
  },
  "language_info": {
   "codemirror_mode": {
    "name": "ipython",
    "version": 3
   },
   "file_extension": ".py",
   "mimetype": "text/x-python",
   "name": "python",
   "nbconvert_exporter": "python",
   "pygments_lexer": "ipython3",
   "version": "3.5.1"
  }
 },
 "nbformat": 4,
 "nbformat_minor": 0
}
