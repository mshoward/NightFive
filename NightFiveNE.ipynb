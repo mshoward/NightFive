{
 "cells": [
  {
   "cell_type": "markdown",
   "metadata": {},
   "source": [
    "# project hl7"
   ]
  },
  {
   "cell_type": "markdown",
   "metadata": {
    "collapsed": true
   },
   "source": [
    "Night FIVE\n",
    "\n",
    "nick enko\n"
   ]
  },
  {
   "cell_type": "code",
   "execution_count": 34,
   "metadata": {
    "collapsed": false
   },
   "outputs": [],
   "source": [
    "\n",
    "def split1(file):\n",
    "    file = open(file, 'r')\n",
    "    var  = file.read().split('|')\n",
    "    print(var)\n",
    "    for i in var:\n",
    "        var2 = i.split('^')\n",
    "        print(var2)\n",
    "       "
   ]
  },
  {
   "cell_type": "code",
   "execution_count": 35,
   "metadata": {
    "collapsed": false,
    "scrolled": true
   },
   "outputs": [
    {
     "name": "stdout",
     "output_type": "stream",
     "text": [
      "['MSH', '^~\\\\&', 'CERNER', '', 'PriorityHealth', '', '', '', 'ORU^R01', 'Q479004375T431430612', 'P', '2.3', '\\nPID', '', '', '001677980', '', 'SMITH^CURTIS', '', '19680219', 'M', '', '', '', '', '', '', '', '', '', '929645156318', '123456789', '\\nPD1', '', '', '', '1234567890^LAST^FIRST^M^^^^^NPI', '\\nOBR', '1', '341856649^HNAM_ORDERID', '000002006326002362', '648088^Basic Metabolic Panel', '', '', '20061122151600', '', '', '', '', '', '', '', '', '1620^Hooker^Robert^L', '', '', '', '', '', '20061122154733', '', '', 'F', '', '', '', '', '', '', '', '', '', '', '20061122140000', '\\nOBX', '1', 'NM', 'GLU^Glucose Lvl', '59', 'mg/dL', '65-99^65^99', 'L', '', '', 'F', '', '', '20061122154733', '']\n",
      "['MSH']\n",
      "['', '~\\\\&']\n",
      "['CERNER']\n",
      "['']\n",
      "['PriorityHealth']\n",
      "['']\n",
      "['']\n",
      "['']\n",
      "['ORU', 'R01']\n",
      "['Q479004375T431430612']\n",
      "['P']\n",
      "['2.3']\n",
      "['\\nPID']\n",
      "['']\n",
      "['']\n",
      "['001677980']\n",
      "['']\n",
      "['SMITH', 'CURTIS']\n",
      "['']\n",
      "['19680219']\n",
      "['M']\n",
      "['']\n",
      "['']\n",
      "['']\n",
      "['']\n",
      "['']\n",
      "['']\n",
      "['']\n",
      "['']\n",
      "['']\n",
      "['929645156318']\n",
      "['123456789']\n",
      "['\\nPD1']\n",
      "['']\n",
      "['']\n",
      "['']\n",
      "['1234567890', 'LAST', 'FIRST', 'M', '', '', '', '', 'NPI']\n",
      "['\\nOBR']\n",
      "['1']\n",
      "['341856649', 'HNAM_ORDERID']\n",
      "['000002006326002362']\n",
      "['648088', 'Basic Metabolic Panel']\n",
      "['']\n",
      "['']\n",
      "['20061122151600']\n",
      "['']\n",
      "['']\n",
      "['']\n",
      "['']\n",
      "['']\n",
      "['']\n",
      "['']\n",
      "['']\n",
      "['1620', 'Hooker', 'Robert', 'L']\n",
      "['']\n",
      "['']\n",
      "['']\n",
      "['']\n",
      "['']\n",
      "['20061122154733']\n",
      "['']\n",
      "['']\n",
      "['F']\n",
      "['']\n",
      "['']\n",
      "['']\n",
      "['']\n",
      "['']\n",
      "['']\n",
      "['']\n",
      "['']\n",
      "['']\n",
      "['']\n",
      "['20061122140000']\n",
      "['\\nOBX']\n",
      "['1']\n",
      "['NM']\n",
      "['GLU', 'Glucose Lvl']\n",
      "['59']\n",
      "['mg/dL']\n",
      "['65-99', '65', '99']\n",
      "['L']\n",
      "['']\n",
      "['']\n",
      "['F']\n",
      "['']\n",
      "['']\n",
      "['20061122154733']\n",
      "['']\n"
     ]
    }
   ],
   "source": [
    "split1('example33.hl7')"
   ]
  },
  {
   "cell_type": "code",
   "execution_count": null,
   "metadata": {
    "collapsed": true
   },
   "outputs": [],
   "source": []
  }
 ],
 "metadata": {
  "kernelspec": {
   "display_name": "Python 3",
   "language": "python",
   "name": "python3"
  },
  "language_info": {
   "codemirror_mode": {
    "name": "ipython",
    "version": 3
   },
   "file_extension": ".py",
   "mimetype": "text/x-python",
   "name": "python",
   "nbconvert_exporter": "python",
   "pygments_lexer": "ipython3",
   "version": "3.6.0"
  }
 },
 "nbformat": 4,
 "nbformat_minor": 2
}
