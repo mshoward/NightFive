{
 "cells": [
  {
   "cell_type": "code",
   "execution_count": 1,
   "metadata": {
    "collapsed": true
   },
   "outputs": [],
   "source": [
    "import re "
   ]
  },
  {
   "cell_type": "code",
   "execution_count": 2,
   "metadata": {
    "collapsed": false
   },
   "outputs": [
    {
     "name": "stdout",
     "output_type": "stream",
     "text": [
      "['^~\\\\&', '', '', '', 'Q479004375T431430612', '2.3', '', '001677980', 'SMITH^CURTIS', '19680219', '', '', '', '', '', '123456789', '', '', 'OBR', '34185649^HNAM_ORDERID', '648088Basic Metabolic Panel', '', '', '', '', '', '1620^Hooker^Robert^L', '', '', '20061122154733', '', '', '', '', '', '', '20061122140000', '1', 'GLU^Glucose Lvl', 'mg/dL', 'L', '', '', '20061122154733']\n"
     ]
    }
   ],
   "source": [
    "f = open('sample1.txt', 'r')\n",
    "x = f.readlines()\n",
    "\n",
    "str1 = ''.join(x)\n",
    "\n",
    "regex = '\\|(.*?)\\|'\n",
    "matches = re.findall('\\|(.*?)\\|', str1, re.DOTALL)\n",
    "\n",
    "print(matches)"
   ]
  },
  {
   "cell_type": "code",
   "execution_count": null,
   "metadata": {
    "collapsed": true
   },
   "outputs": [],
   "source": []
  }
 ],
 "metadata": {
  "kernelspec": {
   "display_name": "Python [conda root]",
   "language": "python",
   "name": "conda-root-py"
  },
  "language_info": {
   "codemirror_mode": {
    "name": "ipython",
    "version": 3
   },
   "file_extension": ".py",
   "mimetype": "text/x-python",
   "name": "python",
   "nbconvert_exporter": "python",
   "pygments_lexer": "ipython3",
   "version": "3.5.2"
  }
 },
 "nbformat": 4,
 "nbformat_minor": 2
}
