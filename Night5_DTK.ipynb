{
 "cells": [
  {
   "cell_type": "markdown",
   "metadata": {},
   "source": [
    "Example 1 - called example1.hl7\n",
    "MSH|^~\\&|CERNER||PriorityHealth||||ORU^R01|Q479004375T431430612|P|2.3|\n",
    "PID|||001677980||SMITH^CURTIS||19680219|M||||||||||929645156318|123456789|\n",
    "PD1||||1234567890^LAST^FIRST^M^^^^^NPI|\n",
    "OBR|1|341856649^HNAM_ORDERID|000002006326002362|648088^Basic Metabolic Panel|||20061122151600|||||||||1620^Hooker^Robert^L||||||20061122154733|||F|||||||||||20061122140000|\n",
    "OBX|1|NM|GLU^Glucose Lvl|59|mg/dL|65-99^65^99|L|||F|||20061122154733|\n",
    "\n",
    "It looks as though I need to first know how many lines I am going to parse... this neccessitates breaking this apart by end of line \n",
    "\n",
    "Loop to process or function call inside a loop to process each layer of data... \n",
    "\n",
    "might function call to test each later... could be useful to search for the next delimeter to begin the process\n"
   ]
  },
  {
   "cell_type": "markdown",
   "metadata": {},
   "source": [
    "\n",
    "Read file into array of strings based on EOL (will it ignore the \\ escape character... not sure)\n",
    "\n",
    "for each segment in array\n",
    "    break apart segments into array of fields\n",
    "    for each field in array\n",
    "        break apart fields into array of componnents\n",
    "            for each componnet in array\n",
    "                break apart componnets into subcomponnets\n",
    "                \n",
    "Will this work?  What about nested cases?\n",
    "\n",
    "Would it be easier to subcall each field break and track the iterations to know what the index number is?  or is it easier to push it into an array and then test for null values within the structure?\n"
   ]
  },
  {
   "cell_type": "code",
   "execution_count": 75,
   "metadata": {
    "collapsed": false
   },
   "outputs": [
    {
     "name": "stdout",
     "output_type": "stream",
     "text": [
      "['MSH|^~\\\\&|CERNER||PriorityHealth||||ORU^R01|Q479004375T431430612|P|2.3|\\n', 'PID|||001677980||SMITH^CURTIS||19680219|M||||||||||929645156318|123456789|\\n', 'PD1||||1234567890^LAST^FIRST^M^^^^^NPI|\\n', 'OBR|1|341856649^HNAM_ORDERID|000002006326002362|648088^Basic Metabolic Panel|||20061122151600|||||||||1620^Hooker^Robert^L||||||20061122154733|||F|||||||||||20061122140000|\\n', 'OBX|1|NM|GLU^Glucose Lvl|59|mg/dL|65-99^65^99|L|||F|||20061122154733|']\n"
     ]
    },
    {
     "ename": "TypeError",
     "evalue": "must be str, not list",
     "output_type": "error",
     "traceback": [
      "\u001b[0;31m---------------------------------------------------------------------------\u001b[0m",
      "\u001b[0;31mTypeError\u001b[0m                                 Traceback (most recent call last)",
      "\u001b[0;32m<ipython-input-75-f4f154940bcd>\u001b[0m in \u001b[0;36m<module>\u001b[0;34m()\u001b[0m\n\u001b[1;32m      7\u001b[0m \u001b[0mfind\u001b[0m \u001b[0;34m=\u001b[0m \u001b[0;34m'\\^~\\\\&'\u001b[0m\u001b[0;34m\u001b[0m\u001b[0m\n\u001b[1;32m      8\u001b[0m \u001b[0mreplace\u001b[0m \u001b[0;34m=\u001b[0m \u001b[0;34m''\u001b[0m\u001b[0;34m\u001b[0m\u001b[0m\n\u001b[0;32m----> 9\u001b[0;31m \u001b[0mtest\u001b[0m \u001b[0;34m=\u001b[0m \u001b[0mre\u001b[0m\u001b[0;34m.\u001b[0m\u001b[0msub\u001b[0m\u001b[0;34m(\u001b[0m\u001b[0mfind\u001b[0m\u001b[0;34m,\u001b[0m\u001b[0mreplace\u001b[0m\u001b[0;34m,\u001b[0m\u001b[0;34m''\u001b[0m\u001b[0;34m+\u001b[0m\u001b[0mx\u001b[0m\u001b[0;34m)\u001b[0m\u001b[0;34m\u001b[0m\u001b[0m\n\u001b[0m\u001b[1;32m     10\u001b[0m \u001b[0mprint\u001b[0m\u001b[0;34m(\u001b[0m\u001b[0mtest\u001b[0m\u001b[0;34m)\u001b[0m\u001b[0;34m\u001b[0m\u001b[0m\n\u001b[1;32m     11\u001b[0m \u001b[0;34m\u001b[0m\u001b[0m\n",
      "\u001b[0;31mTypeError\u001b[0m: must be str, not list"
     ]
    }
   ],
   "source": [
    "f = open(\"example1.hl7\", \"r\")\n",
    "x = f.readlines()\n",
    "print(x)\n",
    "\n",
    "# need to remove the second entry, overwrite where it shows up\n",
    "import re  # input must be string\n",
    "find = '\\^~\\\\&'\n",
    "replace = ''\n",
    "test = re.sub(find,replace,x)\n",
    "print(test)\n",
    "\n",
    "messageArray = [text.split('\\n') for text in x]\n",
    "\n",
    "for segments in messageArray:\n",
    "    #print(segments)\n",
    "    fieldArray = [fields.split('|') for fields in segments]\n",
    "    for fields in fieldArray:\n",
    "        #print(fields)\n",
    "        #print(fields[0])\n",
    "        componentArray = [components.split('^') for components in fields]\n",
    "        for components in componentArray:\n",
    "            #print(components)\n",
    "            subcomponentArray = [subcomponents.split('~') for subcomponents in components ]\n",
    "            for subcomponent in subcomponentArray:\n",
    "                #print(subcomponent)\n",
    "                a=1\n",
    "    \n",
    "f.close()"
   ]
  },
  {
   "cell_type": "code",
   "execution_count": null,
   "metadata": {
    "collapsed": true
   },
   "outputs": [],
   "source": []
  },
  {
   "cell_type": "code",
   "execution_count": null,
   "metadata": {
    "collapsed": true
   },
   "outputs": [],
   "source": []
  }
 ],
 "metadata": {
  "kernelspec": {
   "display_name": "Python 3",
   "language": "python",
   "name": "python3"
  },
  "language_info": {
   "codemirror_mode": {
    "name": "ipython",
    "version": 3
   },
   "file_extension": ".py",
   "mimetype": "text/x-python",
   "name": "python",
   "nbconvert_exporter": "python",
   "pygments_lexer": "ipython3",
   "version": "3.6.0"
  }
 },
 "nbformat": 4,
 "nbformat_minor": 2
}
