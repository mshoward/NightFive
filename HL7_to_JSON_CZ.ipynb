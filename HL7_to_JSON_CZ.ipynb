{
 "cells": [
  {
   "cell_type": "code",
   "execution_count": 1,
   "metadata": {
    "collapsed": true
   },
   "outputs": [],
   "source": [
    "from collections import defaultdict\n",
    "import json\n",
    "import collections\n"
   ]
  },
  {
   "cell_type": "code",
   "execution_count": 6,
   "metadata": {
    "collapsed": false
   },
   "outputs": [
    {
     "name": "stdout",
     "output_type": "stream",
     "text": [
      "[{0: ['MSH'], 1: ['^~\\\\&'], 2: ['CERNER'], 3: [''], 4: ['PriorityHealth'], 5: [''], 6: [''], 7: [''], 8: ['ORU', 'R01'], 9: ['Q479004375T431430612'], 10: ['P'], 11: ['2.3'], 12: ['\\n']}]\n",
      "[{0: ['MSH'], 1: ['^~\\\\&'], 2: ['CERNER'], 3: [''], 4: ['PriorityHealth'], 5: [''], 6: [''], 7: [''], 8: ['ORU', 'R01'], 9: ['Q479004375T431430612'], 10: ['P'], 11: ['2.3'], 12: ['\\n']}, {0: ['PID'], 1: [''], 2: [''], 3: ['001677980'], 4: [''], 5: ['SMITH', 'CURTIS'], 6: [''], 7: ['19680219'], 8: ['M'], 9: [''], 10: [''], 11: [''], 12: [''], 13: [''], 14: [''], 15: [''], 16: [''], 17: [''], 18: ['929645156318'], 19: ['123456789'], 20: ['\\n']}, {0: ['PD1'], 1: [''], 2: [''], 3: [''], 4: ['1234567890', 'LAST', 'FIRST', 'M', '', '', '', '', 'NPI'], 5: ['\\n']}, {0: ['OBR'], 1: ['1'], 2: ['341856649', 'HNAM_ORDERID'], 3: ['000002006326002362'], 4: ['648088', 'Basic Metabolic Panel'], 5: [''], 6: [''], 7: ['20061122151600'], 8: [''], 9: [''], 10: [''], 11: [''], 12: [''], 13: [''], 14: [''], 15: [''], 16: ['1620', 'Hooker', 'Robert', 'L'], 17: [''], 18: [''], 19: [''], 20: [''], 21: [''], 22: ['20061122154733'], 23: [''], 24: [''], 25: ['F'], 26: [''], 27: [''], 28: [''], 29: [''], 30: [''], 31: [''], 32: [''], 33: [''], 34: [''], 35: [''], 36: ['20061122140000'], 37: ['\\n']}, {0: ['OBX'], 1: ['1'], 2: ['NM'], 3: ['GLU', 'Glucose Lvl'], 4: ['59'], 5: ['mg/dL'], 6: [{'65': ['99']}, '65', '99'], 7: ['L'], 8: [''], 9: [''], 10: ['F'], 11: [''], 12: [''], 13: ['20061122154733'], 14: ['']}]\n"
     ]
    }
   ],
   "source": [
    "df = 'sample1.txt'\n",
    "\n",
    "\n",
    "def openFile(df):\n",
    "    f = open('sample1.txt', 'r')\n",
    "    x = f.readlines()\n",
    "    return x\n",
    "\n",
    "x = openFile(df)\n",
    "  \n",
    "def initialSplit(df): \n",
    "    x_l = openFile(df)   \n",
    "    matches=[]\n",
    "    for i in x_l:\n",
    "        matches.append(i.split('|'))\n",
    "    return matches\n",
    "\n",
    "matches=initialSplit(x)  \n",
    "\n",
    "d_all=[]\n",
    "def headerSplit(file):    \n",
    "    d = defaultdict(list)\n",
    "    for i,j in enumerate(matches):     \n",
    "        if i == 0:\n",
    "            for i_i,j_j in enumerate(j):  \n",
    "                if i_i == 1:\n",
    "                    d[i_i].append(j_j)\n",
    "                if '^' not in j_j and i_i!=1:\n",
    "                    d[i_i].append(j_j)\n",
    "                if '^'  in j_j and i_i!=1:\n",
    "                    l2=(j_j.split('^'))\n",
    "                    d[i_i].append(l2[0])\n",
    "            #d[i].append(list(x for x in l2[1:]))\n",
    "                    for x in l2[1:]:\n",
    "                        d[i_i].append(x)    \n",
    "    d_d = dict(d)\n",
    "#print(d.items())\n",
    "    for k,v in d_d.items():\n",
    "        for s,j_s in enumerate(v):        \n",
    "            if '-' in j_s:\n",
    "                l3=j_s.split('-')\n",
    "                v[s]=dict(zip([l3[0]],[l3[1:]]))\n",
    "    d_all.append(d_d)\n",
    "    print(d_all)\n",
    "    \n",
    "headerSplit(matches)\n",
    "\n",
    "\n",
    "def lineHl7(line):\n",
    "    \n",
    "    d2 = defaultdict(list)\n",
    "    for i_o,j_o in enumerate(line):   \n",
    "        if '^' not in j_o :\n",
    "            d2[i_o].append(j_o)    \n",
    "        if '^'  in j_o :\n",
    "            l2=(j_o.split('^'))\n",
    "            d2[i_o].append(l2[0])\n",
    "            for x in l2[1:]:\n",
    "                d2[i_o].append(x)    \n",
    "    d_d2 = dict(d2)\n",
    "    for k,v in d_d2.items():\n",
    "        for s,j_o in enumerate(v):        \n",
    "            if '-' in j_o:\n",
    "                l3=j_o.split('-')\n",
    "                v[s]=dict(zip([l3[0]],[l3[1:]]))\n",
    "    d_all.append(d_d2) \n",
    "       \n",
    "#lineHl7(matches1[4])      \n",
    "\n",
    "#d_all2=[] \n",
    "for line in matches[1:]:\n",
    "    lineHl7(line)      \n",
    "\n",
    "\n",
    "d = defaultdict(list)\n",
    "for i,j in enumerate(matches[0]):\n",
    "    if i == 1:\n",
    "        d[i].append(j)\n",
    "    if '^' not in j and i!=1:\n",
    "        d[i].append(j)\n",
    "    if '^'  in j and i!=1:\n",
    "        l2=(j.split('^'))\n",
    "        d[i].append(l2[0])\n",
    "        #d[i].append(list(x for x in l2[1:]))\n",
    "        for x in l2[1:]:\n",
    "            d[i].append(x)\n",
    "d_d = dict(d)\n",
    "for k,v in d_d.items():\n",
    "    for s,j in enumerate(v):        \n",
    "        if '-' in j:\n",
    "            l3=j.split('-')\n",
    "            v[s]=dict(zip([l3[0]],[l3[1:]]))\n",
    " \n",
    "\n",
    "print(d_all)"
   ]
  },
  {
   "cell_type": "code",
   "execution_count": null,
   "metadata": {
    "collapsed": true
   },
   "outputs": [],
   "source": []
  }
 ],
 "metadata": {
  "kernelspec": {
   "display_name": "Python [conda root]",
   "language": "python",
   "name": "conda-root-py"
  },
  "language_info": {
   "codemirror_mode": {
    "name": "ipython",
    "version": 3
   },
   "file_extension": ".py",
   "mimetype": "text/x-python",
   "name": "python",
   "nbconvert_exporter": "python",
   "pygments_lexer": "ipython3",
   "version": "3.5.2"
  }
 },
 "nbformat": 4,
 "nbformat_minor": 2
}
