{
 "cells": [
  {
   "cell_type": "code",
   "execution_count": 1,
   "metadata": {
    "collapsed": false
   },
   "outputs": [],
   "source": [
    "import json"
   ]
  },
  {
   "cell_type": "code",
   "execution_count": 2,
   "metadata": {
    "collapsed": true
   },
   "outputs": [],
   "source": [
    "def openFile(fileName):\n",
    "     return open(fileName)"
   ]
  },
  {
   "cell_type": "code",
   "execution_count": 3,
   "metadata": {
    "collapsed": false
   },
   "outputs": [],
   "source": [
    "def splitFileByPipe(file):\n",
    "    hl7List = []\n",
    "    for i in file:\n",
    "        for j in i.splitlines():\n",
    "    #         print j.split(\"|\")\n",
    "            hl7List.append(j.split(\"|\"))\n",
    "    return hl7List"
   ]
  },
  {
   "cell_type": "code",
   "execution_count": 4,
   "metadata": {
    "collapsed": false
   },
   "outputs": [],
   "source": [
    "def splitListBySpecialCharacters(list):\n",
    "    hl7Dict = {}\n",
    "    for i, x in enumerate(list):\n",
    "        hl7Dict[str(i)+'-'+list[i][0]] = {}\n",
    "        for idx, val in enumerate(x):\n",
    "            for idx2, val2 in enumerate(val.split('^')):\n",
    "                key = str(idx) +'.'+ str(idx2)\n",
    "                for idx3, val3 in enumerate(val2.split('~')):\n",
    "                    key = key + '.' +str(idx3)\n",
    "                    hl7Dict[str(i)+'-'+list[i][0]][key] =  val3\n",
    "    return hl7Dict"
   ]
  },
  {
   "cell_type": "code",
   "execution_count": 5,
   "metadata": {
    "collapsed": false
   },
   "outputs": [],
   "source": [
    "def convertDictToJSON(dict):\n",
    "    JSONFile = json.dumps(dict)\n",
    "    return JSONFile\n",
    "\n",
    "def writeJSONFile(JSONFile,fileName):\n",
    "    with open(fileName[:-4] + '.json', 'w') as outfile:\n",
    "        json.dump(JSONFile, outfile)\n",
    "        \n",
    "def cleanDict(Dict):\n",
    "    newDict = {}\n",
    "    for k, v in Dict.items():\n",
    "        NestednewDict = {}\n",
    "        for k2, v2 in v.items():\n",
    "            if v2:\n",
    "                NestednewDict[k2] = v2\n",
    "        newDict[k] = NestednewDict\n",
    "        \n",
    "    return newDict"
   ]
  },
  {
   "cell_type": "code",
   "execution_count": 6,
   "metadata": {
    "collapsed": false
   },
   "outputs": [],
   "source": [
    "# use functions\n",
    "fileName = \"hl7Example1.hl7\"\n",
    "# fileName = \"hl7Example2.hl7\"\n",
    "# fileName = \"hl7Example3.hl7\"\n",
    "\n",
    "file = openFile(fileName)\n",
    "hl7List = splitFileByPipe(file)\n",
    "hl7Dict = splitListBySpecialCharacters(hl7List)\n",
    "hl7Dict2 = cleanDict(hl7Dict)\n",
    "JSONFile = convertDictToJSON(hl7Dict2)\n",
    "writeJSONFile(JSONFile,fileName)"
   ]
  },
  {
   "cell_type": "code",
   "execution_count": 7,
   "metadata": {
    "collapsed": false
   },
   "outputs": [
    {
     "data": {
      "text/plain": [
       "{'0-MSH': {'0.0.0': 'MSH',\n",
       "  '1.1.0.1': '\\\\&',\n",
       "  '10.0.0': 'P',\n",
       "  '11.0.0': '2.3',\n",
       "  '2.0.0': 'CERNER',\n",
       "  '4.0.0': 'PriorityHealth',\n",
       "  '8.0.0': 'ORU',\n",
       "  '8.1.0': 'R01',\n",
       "  '9.0.0': 'Q479004375T431430612'},\n",
       " '1-PID': {'0.0.0': 'PID',\n",
       "  '18.0.0': '929645156318',\n",
       "  '19.0.0': '123456789',\n",
       "  '3.0.0': '001677980',\n",
       "  '5.0.0': 'SMITH',\n",
       "  '5.1.0': 'CURTIS',\n",
       "  '7.0.0': '19680219',\n",
       "  '8.0.0': 'M'},\n",
       " '2-PD1': {'0.0.0': 'PD1',\n",
       "  '4.0.0': '1234567890',\n",
       "  '4.1.0': 'LAST',\n",
       "  '4.2.0': 'FIRST',\n",
       "  '4.3.0': 'M',\n",
       "  '4.8.0': 'NPI'},\n",
       " '3-OBR': {'0.0.0': 'OBR',\n",
       "  '1.0.0': '1',\n",
       "  '16.0.0': '1620',\n",
       "  '16.1.0': 'Hooker',\n",
       "  '16.2.0': 'Robert',\n",
       "  '16.3.0': 'L',\n",
       "  '2.0.0': '341856649',\n",
       "  '2.1.0': 'HNAM_ORDERID',\n",
       "  '22.0.0': '20061122154733',\n",
       "  '25.0.0': 'F',\n",
       "  '3.0.0': '000002006326002362',\n",
       "  '36.0.0': '20061122140000',\n",
       "  '4.0.0': '648088',\n",
       "  '4.1.0': 'Basic Metabolic Panel',\n",
       "  '7.0.0': '20061122151600'},\n",
       " '4-OBX': {'0.0.0': 'OBX',\n",
       "  '1.0.0': '1',\n",
       "  '10.0.0': 'F',\n",
       "  '13.0.0': '20061122154733',\n",
       "  '2.0.0': 'NM',\n",
       "  '3.0.0': 'GLU',\n",
       "  '3.1.0': 'Glucose Lvl',\n",
       "  '4.0.0': '59',\n",
       "  '5.0.0': 'mg/dL',\n",
       "  '6.0.0': '65-99',\n",
       "  '6.1.0': '65',\n",
       "  '6.2.0': '99',\n",
       "  '7.0.0': 'L'}}"
      ]
     },
     "execution_count": 7,
     "metadata": {},
     "output_type": "execute_result"
    }
   ],
   "source": [
    "# JSONFile\n",
    "hl7Dict2\n",
    "# hl7Dict\n",
    "# hl7List\n"
   ]
  },
  {
   "cell_type": "code",
   "execution_count": null,
   "metadata": {
    "collapsed": true
   },
   "outputs": [],
   "source": []
  }
 ],
 "metadata": {
  "anaconda-cloud": {},
  "kernelspec": {
   "display_name": "Python 3",
   "language": "python",
   "name": "python3"
  },
  "language_info": {
   "codemirror_mode": {
    "name": "ipython",
    "version": 3
   },
   "file_extension": ".py",
   "mimetype": "text/x-python",
   "name": "python",
   "nbconvert_exporter": "python",
   "pygments_lexer": "ipython3",
   "version": "3.6.0"
  }
 },
 "nbformat": 4,
 "nbformat_minor": 1
}
