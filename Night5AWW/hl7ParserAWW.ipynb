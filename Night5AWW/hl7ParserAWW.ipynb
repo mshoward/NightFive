{
 "cells": [
  {
   "cell_type": "code",
   "execution_count": 1,
   "metadata": {
    "collapsed": false
   },
   "outputs": [],
   "source": [
    "import json"
   ]
  },
  {
   "cell_type": "code",
   "execution_count": 2,
   "metadata": {
    "collapsed": true
   },
   "outputs": [],
   "source": [
    "def openFile(fileName):\n",
    "     return open(fileName)"
   ]
  },
  {
   "cell_type": "code",
   "execution_count": 3,
   "metadata": {
    "collapsed": false
   },
   "outputs": [],
   "source": [
    "def splitFileByPipe(file):\n",
    "    hl7List = []\n",
    "    for i in file:\n",
    "        for j in i.splitlines():\n",
    "    #         print j.split(\"|\")\n",
    "            hl7List.append(j.split(\"|\"))\n",
    "    return hl7List"
   ]
  },
  {
   "cell_type": "code",
   "execution_count": 4,
   "metadata": {
    "collapsed": false
   },
   "outputs": [],
   "source": [
    "def splitListBySpecialCharacters(list):\n",
    "    hl7Dict = {}\n",
    "    for i, x in enumerate(list):\n",
    "        hl7Dict[str(i)+'-'+list[i][0]] = {}\n",
    "        for idx, val in enumerate(x):\n",
    "            for idx2, val2 in enumerate(val.split('^')):\n",
    "                key = str(idx) +'.'+ str(idx2)\n",
    "                for idx3, val3 in enumerate(val2.split('~')):\n",
    "                    key = key + '.' +str(idx3)\n",
    "                    hl7Dict[str(i)+'-'+list[i][0]][key] =  val3\n",
    "    return hl7Dict"
   ]
  },
  {
   "cell_type": "code",
   "execution_count": 5,
   "metadata": {
    "collapsed": false
   },
   "outputs": [],
   "source": [
    "def convertDictToJSON(dict):\n",
    "    JSONFile = json.dumps(dict)\n",
    "    return JSONFile\n",
    "\n",
    "def writeJSONFile(JSONFile,fileName):\n",
    "    with open(fileName + '.json', 'w') as outfile:\n",
    "        json.dump(JSONFile, outfile)\n",
    "        \n",
    "def cleanDict(Dict):\n",
    "    newDict = {}\n",
    "    for k, v in Dict.items():\n",
    "        NestednewDict = {}\n",
    "        for k2, v2 in v.items():\n",
    "            if v2:\n",
    "                NestednewDict[k2] = v2\n",
    "        newDict[k] = NestednewDict\n",
    "        \n",
    "    return newDict"
   ]
  },
  {
   "cell_type": "code",
   "execution_count": 6,
   "metadata": {
    "collapsed": false
   },
   "outputs": [],
   "source": [
    "# use functions\n",
    "# fileName = \"hl7Example1.hl7\"\n",
    "# fileName = \"hl7Example2.hl7\"\n",
    "fileName = \"hl7Example3.hl7\"\n",
    "\n",
    "file = openFile(fileName)\n",
    "hl7List = splitFileByPipe(file)\n",
    "hl7Dict = splitListBySpecialCharacters(hl7List)\n",
    "hl7Dict2 = cleanDict(hl7Dict)\n",
    "JSONFile = convertDictToJSON(hl7Dict2)\n",
    "writeJSONFile(JSONFile,fileName)"
   ]
  },
  {
   "cell_type": "code",
   "execution_count": 7,
   "metadata": {
    "collapsed": false
   },
   "outputs": [
    {
     "data": {
      "text/plain": [
       "{'0-MSH': {'0.0.0': 'MSH',\n",
       "  '1.1.0.1': '\\\\&',\n",
       "  '10.0.0': 'P',\n",
       "  '11.0.0': '2.3',\n",
       "  '2.0.0': 'XXXX',\n",
       "  '3.0.0': 'C',\n",
       "  '4.0.0': 'PRIORITYHEALTH',\n",
       "  '5.0.0': 'PRIORITYHEALTH',\n",
       "  '6.0.0': '20080511103530',\n",
       "  '8.0.0': 'ORU',\n",
       "  '8.1.0': 'R01',\n",
       "  '9.0.0': 'Q335939501T337311002'},\n",
       " '1-PID': {'0.0.0': 'PID',\n",
       "  '1.0.0': '1',\n",
       "  '3.0.0': '94000000000',\n",
       "  '3.3.0': 'Priority Health',\n",
       "  '5.0.0': 'LASTNAME',\n",
       "  '5.1.0': 'FIRSTNAME',\n",
       "  '5.2.0': 'INIT',\n",
       "  '7.0.0': '19460101',\n",
       "  '8.0.0': 'M'},\n",
       " '2-PD1': {'0.0.0': 'PD1',\n",
       "  '1.0.0': '1',\n",
       "  '4.0.0': '1234567890',\n",
       "  '4.1.0': 'PCPLAST',\n",
       "  '4.2.0': 'PCPFIRST',\n",
       "  '4.3.0': 'M',\n",
       "  '4.8.0': 'NPI'},\n",
       " '3-OBR': {'0.0.0': 'OBR',\n",
       "  '1.0.0': '1',\n",
       "  '16.0.0': '1694',\n",
       "  '16.1.0': 'DOCLAST',\n",
       "  '16.2.0': 'DOCFIRST',\n",
       "  '16.4.0': 'MD',\n",
       "  '22.0.0': '20080511103529',\n",
       "  '3.0.0': '185L29839X64489JLPF',\n",
       "  '3.0.0.1': 'X64489',\n",
       "  '3.1.0': 'ACC_NUM',\n",
       "  '4.0.0': 'JLPF',\n",
       "  '4.1.0': 'Lipid Panel - C'},\n",
       " '4-OBX': {'0.0.0': 'OBX',\n",
       "  '1.0.0': '1',\n",
       "  '10.0.0': '\"\"',\n",
       "  '11.0.0': 'F',\n",
       "  '14.0.0': '20080511103500',\n",
       "  '17.3.0': '\"\"',\n",
       "  '2.0.0': 'NM',\n",
       "  '3.0.0': 'JHDL',\n",
       "  '3.1.0': 'HDL Cholesterol (CAD)',\n",
       "  '4.0.0': '1',\n",
       "  '5.0.0': '62',\n",
       "  '6.0.0': 'CD:289',\n",
       "  '6.1.0': 'mg/dL',\n",
       "  '7.0.0': '>40',\n",
       "  '7.1.0': '>40',\n",
       "  '8.0.0': '\"\"'},\n",
       " '5-OBX': {'0.0.0': 'OBX',\n",
       "  '1.0.0': '2',\n",
       "  '10.0.0': '\"\"',\n",
       "  '11.0.0': 'F',\n",
       "  '14.0.0': '20080511103500',\n",
       "  '17.3.0': '\"\"',\n",
       "  '2.0.0': 'NM',\n",
       "  '3.0.0': 'JTRIG',\n",
       "  '3.1.0': 'Triglyceride (CAD)',\n",
       "  '4.0.0': '1',\n",
       "  '5.0.0': '72',\n",
       "  '6.0.0': 'CD:289',\n",
       "  '6.1.0': 'mg/dL',\n",
       "  '7.0.0': '35-150',\n",
       "  '7.1.0': '35',\n",
       "  '7.2.0': '150',\n",
       "  '8.0.0': '\"\"'},\n",
       " '6-OBX': {'0.0.0': 'OBX',\n",
       "  '1.0.0': '3',\n",
       "  '10.0.0': '\"\"',\n",
       "  '11.0.0': 'F',\n",
       "  '14.0.0': '20080511103500',\n",
       "  '17.3.0': '\"\"',\n",
       "  '2.0.0': 'NM',\n",
       "  '3.0.0': 'JVLDL',\n",
       "  '3.1.0': 'VLDL-C (calc - CAD)',\n",
       "  '4.0.0': '1',\n",
       "  '5.0.0': '14',\n",
       "  '6.0.0': 'CD:289',\n",
       "  '6.1.0': 'mg/dL',\n",
       "  '8.0.0': '\"\"'},\n",
       " '7-OBX': {'0.0.0': 'OBX',\n",
       "  '1.0.0': '4',\n",
       "  '10.0.0': '\"\"',\n",
       "  '11.0.0': 'F',\n",
       "  '14.0.0': '20080511103500',\n",
       "  '17.3.0': '\"\"',\n",
       "  '2.0.0': 'NM',\n",
       "  '3.0.0': 'JLDL',\n",
       "  '3.1.0': 'LDL-C (calc - CAD)',\n",
       "  '4.0.0': '1',\n",
       "  '5.0.0': '134',\n",
       "  '6.0.0': 'CD:289',\n",
       "  '6.1.0': 'mg/dL',\n",
       "  '7.0.0': '0-100',\n",
       "  '7.1.0': '0',\n",
       "  '7.2.0': '100',\n",
       "  '8.0.0': 'H'},\n",
       " '8-OBX': {'0.0.0': 'OBX',\n",
       "  '1.0.0': '5',\n",
       "  '10.0.0': '\"\"',\n",
       "  '11.0.0': 'F',\n",
       "  '14.0.0': '20080511103500',\n",
       "  '17.3.0': '\"\"',\n",
       "  '2.0.0': 'NM',\n",
       "  '3.0.0': 'JCHO',\n",
       "  '3.1.0': 'Cholesterol (CAD)',\n",
       "  '4.0.0': '1',\n",
       "  '5.0.0': '210',\n",
       "  '6.0.0': 'CD:289',\n",
       "  '6.1.0': 'mg/dL',\n",
       "  '7.0.0': '90-200',\n",
       "  '7.1.0': '90',\n",
       "  '7.2.0': '200',\n",
       "  '8.0.0': 'H'}}"
      ]
     },
     "execution_count": 7,
     "metadata": {},
     "output_type": "execute_result"
    }
   ],
   "source": [
    "# JSONFile\n",
    "hl7Dict2\n",
    "# hl7List\n",
    "# hl7List = []\n",
    "# hl7Dict = {}"
   ]
  },
  {
   "cell_type": "code",
   "execution_count": null,
   "metadata": {
    "collapsed": true
   },
   "outputs": [],
   "source": []
  }
 ],
 "metadata": {
  "anaconda-cloud": {},
  "kernelspec": {
   "display_name": "Python 3",
   "language": "python",
   "name": "python3"
  },
  "language_info": {
   "codemirror_mode": {
    "name": "ipython",
    "version": 3
   },
   "file_extension": ".py",
   "mimetype": "text/x-python",
   "name": "python",
   "nbconvert_exporter": "python",
   "pygments_lexer": "ipython3",
   "version": "3.6.0"
  }
 },
 "nbformat": 4,
 "nbformat_minor": 1
}
